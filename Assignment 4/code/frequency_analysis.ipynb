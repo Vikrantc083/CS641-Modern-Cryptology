{
 "cells": [
  {
   "cell_type": "code",
   "execution_count": 1,
   "metadata": {},
   "outputs": [
    {
     "name": "stdout",
     "output_type": "stream",
     "text": [
      "Letter Frequencies in 'alphabetical' order in ciphertext1:\n",
      "f: 9920  g: 10025 h: 9913  i: 9897 \n",
      "j: 9937  k: 9898  l: 9909  m: 10080\n",
      "n: 10114 o: 9995  p: 10068 q: 10123\n",
      "r: 10087 s: 10054 t: 9979  u: 9985 \n",
      "\n",
      "\n",
      "Letter Frequencies in 'alphabetical' order in ciphertext2:\n",
      "f: 9993  g: 9922  h: 9995  i: 10077\n",
      "j: 9954  k: 10214 l: 9941  m: 10028\n",
      "n: 9889  o: 10045 p: 9976  q: 9958 \n",
      "r: 9886  s: 10127 t: 10060 u: 9919 \n"
     ]
    }
   ],
   "source": [
    "def letter_frequency(document_path):\n",
    "    frequencies = {}\n",
    "\n",
    "    with open(document_path, 'r') as file:\n",
    "        document_content = file.read()\n",
    "\n",
    "    for char in document_content:\n",
    "        if char.isalpha():\n",
    "            char = char.lower()\n",
    "            frequencies[char] = frequencies.get(char, 0) + 1\n",
    "\n",
    "    return frequencies\n",
    "\n",
    "def print_in_alphabetical_fashion(frequencies):\n",
    "    sorted_frequencies = sorted(frequencies.items())\n",
    "    for i in range(0, len(sorted_frequencies), 4):\n",
    "        print(\"{:<8} {:<8} {:<8} {:<8}\".format(\n",
    "            sorted_frequencies[i][0] + \": \" + str(sorted_frequencies[i][1]),\n",
    "            sorted_frequencies[i+1][0] + \": \" + str(sorted_frequencies[i+1][1]) if i+1 < len(sorted_frequencies) else \"\",\n",
    "            sorted_frequencies[i+2][0] + \": \" + str(sorted_frequencies[i+2][1]) if i+2 < len(sorted_frequencies) else \"\",\n",
    "            sorted_frequencies[i+3][0] + \": \" + str(sorted_frequencies[i+3][1]) if i+3 < len(sorted_frequencies) else \"\"\n",
    "        ))\n",
    "\n",
    "def main():\n",
    "    document_path = \"ciphertext1.txt\"  \n",
    "    frequencies = letter_frequency(document_path)\n",
    "\n",
    "    print(\"Letter Frequencies in 'alphabetical' order in ciphertext1:\")\n",
    "    print_in_alphabetical_fashion(frequencies)\n",
    "    print(\"\\n\")\n",
    "    document_path = \"ciphertext2.txt\"  \n",
    "    frequencies = letter_frequency(document_path)\n",
    "\n",
    "    print(\"Letter Frequencies in 'alphabetical' order in ciphertext2:\")\n",
    "    print_in_alphabetical_fashion(frequencies)\n",
    "\n",
    "if __name__ == \"__main__\":\n",
    "    main()\n"
   ]
  }
 ],
 "metadata": {
  "kernelspec": {
   "display_name": "Python 3",
   "language": "python",
   "name": "python3"
  },
  "language_info": {
   "codemirror_mode": {
    "name": "ipython",
    "version": 3
   },
   "file_extension": ".py",
   "mimetype": "text/x-python",
   "name": "python",
   "nbconvert_exporter": "python",
   "pygments_lexer": "ipython3",
   "version": "3.11.6"
  }
 },
 "nbformat": 4,
 "nbformat_minor": 2
}
