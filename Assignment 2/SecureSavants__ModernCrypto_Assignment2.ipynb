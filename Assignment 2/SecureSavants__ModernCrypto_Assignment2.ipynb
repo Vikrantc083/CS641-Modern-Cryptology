{
  "cells": [
    {
      "cell_type": "code",
      "execution_count": 1,
      "metadata": {
        "colab": {
          "base_uri": "https://localhost:8080/"
        },
        "id": "M9SS7Pu0EPIp",
        "outputId": "d115621c-a802-454d-9b74-43a8fc3f04b3"
      },
      "outputs": [
        {
          "name": "stdout",
          "output_type": "stream",
          "text": [
            "IOC: 0.04236192714453584\n",
            "Normalised IOC: 1.101410105757932\n"
          ]
        }
      ],
      "source": [
        "#Index Of Coincidence\n",
        "alph = \"abcdefghijklmnopqrstuvwxyz\"\n",
        "\n",
        "def isLetter(char):\n",
        "\treturn (char in alph)\n",
        "\n",
        "def countLetters(text):\n",
        "\tcount = 0\n",
        "\tfor i in text:\n",
        "\t\tif(isLetter(i)):\n",
        "\t\t\tcount += 1\n",
        "\treturn count\n",
        "\n",
        "def getIOC(text):\n",
        "\tletterCounts = []\n",
        "\n",
        "\t# Loop through each letter in the alphabet - count number of times it appears\n",
        "\tfor i in range(len(alph)):\n",
        "\t\tcount = 0\n",
        "\t\tfor j in text:\n",
        "\t\t\tif j == alph[i]:\n",
        "\t\t\t\tcount += 1\n",
        "\t\tletterCounts.append(count)\n",
        "\n",
        "\t# Loop through all letter counts, applying the calculation (the sigma part)\n",
        "\ttotal = 0\n",
        "\tfor i in range(len(letterCounts)):\n",
        "\t\tni = letterCounts[i]\n",
        "\t\ttotal += ni * (ni - 1)\n",
        "\n",
        "\tN = countLetters(text)\n",
        "\tc = 26.0 # Number of letters in the alphabet\n",
        "\ttotal = float(total) / ((N * (N - 1)))\n",
        "\treturn total\n",
        "t=\"Lg ccud qh urg tgay ejbwdkt, wmgtf su bgud nkudnk lrd vjfbg.   Yrhfm qvd vng sfuuxytj \\\"vkj_ecwo_ogp_ej_rnfkukf\\\" wt iq urtuwjm.   Ocz iqa jdag vio uzthsivi pqx vkj pgyd encpggt. Uy hopg yjg fhkz  arz hkscv ckoq pgfn vu wwygt nkioe zttft djkth.\"\n",
        "text = t.lower()\n",
        "total = getIOC(text)\n",
        "print(\"IOC: \" + str(total))\n",
        "print(\"Normalised IOC: \" + str(total * 26.0))"
      ]
    },
    {
      "cell_type": "code",
      "execution_count": 2,
      "metadata": {
        "colab": {
          "base_uri": "https://localhost:8080/"
        },
        "id": "3hV9kvIUvwpU",
        "outputId": "91a19ea1-8345-4be0-bfba-762940cd51b0"
      },
      "outputs": [
        {
          "name": "stdout",
          "output_type": "stream",
          "text": [
            "Substitution Value:  1\n",
            "CipherText:  Hello, World! This is a test message.\n",
            "Decrypted:   Ifmmp, Xpsme! Uijt jt b uftu nfttbhf.\n",
            "Substitution Value:  2\n",
            "CipherText:  Hello, World! This is a test message.\n",
            "Decrypted:   Jgnnq, Yqtnf! Vjku ku c vguv oguucig.\n",
            "Substitution Value:  3\n",
            "CipherText:  Hello, World! This is a test message.\n",
            "Decrypted:   Khoor, Zruog! Wklv lv d whvw phvvdjh.\n",
            "Substitution Value:  4\n",
            "CipherText:  Hello, World! This is a test message.\n",
            "Decrypted:   Lipps, Asvph! Xlmw mw e xiwx qiwweki.\n",
            "Substitution Value:  5\n",
            "CipherText:  Hello, World! This is a test message.\n",
            "Decrypted:   Mjqqt, Btwqi! Ymnx nx f yjxy rjxxflj.\n",
            "Substitution Value:  6\n",
            "CipherText:  Hello, World! This is a test message.\n",
            "Decrypted:   Nkrru, Cuxrj! Znoy oy g zkyz skyygmk.\n",
            "Substitution Value:  7\n",
            "CipherText:  Hello, World! This is a test message.\n",
            "Decrypted:   Olssv, Dvysk! Aopz pz h alza tlzzhnl.\n",
            "Substitution Value:  8\n",
            "CipherText:  Hello, World! This is a test message.\n",
            "Decrypted:   Pmttw, Ewztl! Bpqa qa i bmab umaaiom.\n",
            "Substitution Value:  9\n",
            "CipherText:  Hello, World! This is a test message.\n",
            "Decrypted:   Qnuux, Fxaum! Cqrb rb j cnbc vnbbjpn.\n",
            "Substitution Value:  10\n",
            "CipherText:  Hello, World! This is a test message.\n",
            "Decrypted:   Rovvy, Gybvn! Drsc sc k docd wocckqo.\n",
            "Substitution Value:  11\n",
            "CipherText:  Hello, World! This is a test message.\n",
            "Decrypted:   Spwwz, Hzcwo! Estd td l epde xpddlrp.\n",
            "Substitution Value:  12\n",
            "CipherText:  Hello, World! This is a test message.\n",
            "Decrypted:   Tqxxa, Iadxp! Ftue ue m fqef yqeemsq.\n",
            "Substitution Value:  13\n",
            "CipherText:  Hello, World! This is a test message.\n",
            "Decrypted:   Uryyb, Jbeyq! Guvf vf n grfg zrffntr.\n",
            "Substitution Value:  14\n",
            "CipherText:  Hello, World! This is a test message.\n",
            "Decrypted:   Vszzc, Kcfzr! Hvwg wg o hsgh asggous.\n",
            "Substitution Value:  15\n",
            "CipherText:  Hello, World! This is a test message.\n",
            "Decrypted:   Wtaad, Ldgas! Iwxh xh p ithi bthhpvt.\n",
            "Substitution Value:  16\n",
            "CipherText:  Hello, World! This is a test message.\n",
            "Decrypted:   Xubbe, Mehbt! Jxyi yi q juij cuiiqwu.\n",
            "Substitution Value:  17\n",
            "CipherText:  Hello, World! This is a test message.\n",
            "Decrypted:   Yvccf, Nficu! Kyzj zj r kvjk dvjjrxv.\n",
            "Substitution Value:  18\n",
            "CipherText:  Hello, World! This is a test message.\n",
            "Decrypted:   Zwddg, Ogjdv! Lzak ak s lwkl ewkksyw.\n",
            "Substitution Value:  19\n",
            "CipherText:  Hello, World! This is a test message.\n",
            "Decrypted:   Axeeh, Phkew! Mabl bl t mxlm fxlltzx.\n",
            "Substitution Value:  20\n",
            "CipherText:  Hello, World! This is a test message.\n",
            "Decrypted:   Byffi, Qilfx! Nbcm cm u nymn gymmuay.\n",
            "Substitution Value:  21\n",
            "CipherText:  Hello, World! This is a test message.\n",
            "Decrypted:   Czggj, Rjmgy! Ocdn dn v ozno hznnvbz.\n",
            "Substitution Value:  22\n",
            "CipherText:  Hello, World! This is a test message.\n",
            "Decrypted:   Dahhk, Sknhz! Pdeo eo w paop iaoowca.\n",
            "Substitution Value:  23\n",
            "CipherText:  Hello, World! This is a test message.\n",
            "Decrypted:   Ebiil, Tloia! Qefp fp x qbpq jbppxdb.\n",
            "Substitution Value:  24\n",
            "CipherText:  Hello, World! This is a test message.\n",
            "Decrypted:   Fcjjm, Umpjb! Rfgq gq y rcqr kcqqyec.\n",
            "Substitution Value:  25\n",
            "CipherText:  Hello, World! This is a test message.\n",
            "Decrypted:   Gdkkn, Vnqkc! Sghr hr z sdrs ldrrzfd.\n"
          ]
        }
      ],
      "source": [
        "#Substitution Cipher\n",
        "\n",
        "def substitution_cipher(text,subs_val):\n",
        "    decrypted_text = \"\"\n",
        "    for char in text:\n",
        "        if char.isalpha():\n",
        "            # Check if the character is lowercase\n",
        "            if char.islower():\n",
        "                decrypted_text += chr((ord(char) - ord('a') + subs_val) % 26 + ord('a'))\n",
        "            # Check if the character is uppercase\n",
        "            elif char.isupper():\n",
        "                decrypted_text += chr((ord(char) - ord('A') + subs_val) % 26 + ord('A'))\n",
        "        else:\n",
        "            decrypted_text += char\n",
        "    return decrypted_text\n",
        "\n",
        "\n",
        "\n",
        "for i in range(1,26):\n",
        "  print(\"Substitution Value: \",i)\n",
        "  Ciphertext = \"Hello, World! This is a test message.\"\n",
        "  print(\"CipherText: \", Ciphertext)\n",
        "  decrypted_text = substitution_cipher(Ciphertext,i)\n",
        "  print(\"Decrypted:  \",decrypted_text)\n",
        "\n"
      ]
    },
    {
      "cell_type": "code",
      "execution_count": 3,
      "metadata": {
        "colab": {
          "base_uri": "https://localhost:8080/"
        },
        "id": "5WARGTX8s6xV",
        "outputId": "4616c268-f393-4bc2-fb7c-88a56f9f0c81"
      },
      "outputs": [
        {
          "name": "stdout",
          "output_type": "stream",
          "text": [
            "Key: kcgcdfccb\n",
            "\n",
            "CipherText: Lg ccud qh urg tgay ejbwdkt, wmgtf su bgud nkudnk lrd vjfbg. Yrhfm qvd vng sfuuxytj \"vkj_ecwo_ogp_ej_rnfkukf\" wt iq urtuwjm. Ocz iqa jdag vio uzthsivi pqx vkj pgyd encpggt. Uy hopg yjg fhkz arz hkscv ckoq pgfn vu wwygt nkioe zttft djkth.\n",
            "\n",
            "Decrypted message: ZWNABLZJLDJMLXMJWBMJCTCJZSIFJKQXMXJJQJFWJCJPRQZTSKULZIPTBBXYJEKDXUJNKZJGXWNKYLIFDRTNHIVTYXIGSYPZNYXBYPPYVISWPJKJKXMJHTJMGUTVJNIDNUNFJTYKWNHVRJICRVOUIXJNLNJLSUMNWDHJCPBQWWIDJMEKYONVREXWKAVSCRCPDKYSKZPJESPPJNVFPNHJMGGDEJNPTXOYILJNXKMZTRRVZ\n"
          ]
        }
      ],
      "source": [
        "#Beaufort_Cipher\n",
        "def beaufort_cipher(ciphertext, key):\n",
        "    \"\"\"Decrypts ciphertext using the Beaufort Cipher with the given key.\"\"\"\n",
        "    decryptedtext = \"\"\n",
        "    for i in range(len(ciphertext)):\n",
        "        # Convert the characters to uppercase and subtract 'A' to get a value between 0 and 25\n",
        "        char_value = (ord(ciphertext[i].upper()) - ord('A')) % 26\n",
        "        key_value = (ord(key[i % len(key)].upper())-ord('A')) % 26\n",
        "        # Apply the Beaufort Cipher algorithm to obtain the decrypted character\n",
        "        decrypted_char = chr(((key_value - char_value) % 26) + ord('A'))\n",
        "        decryptedtext += decrypted_char\n",
        "\n",
        "    return decryptedtext\n",
        "\n",
        "def main():\n",
        "    ciphertext = \"Lg ccud qh urg tgay ejbwdkt, wmgtf su bgud nkudnk lrd vjfbg. Yrhfm qvd vng sfuuxytj \\\"vkj_ecwo_ogp_ej_rnfkukf\\\" wt iq urtuwjm. Ocz iqa jdag vio uzthsivi pqx vkj pgyd encpggt. Uy hopg yjg fhkz arz hkscv ckoq pgfn vu wwygt nkioe zttft djkth.\"\n",
        "    key = \"kcgcdfccb\"\n",
        "    decryptedtext = beaufort_cipher(ciphertext, key)\n",
        "    print(\"Key:\", key)\n",
        "    print(\"\\nCipherText:\",ciphertext)\n",
        "    print(\"\\nDecrypted message:\", decryptedtext)\n",
        "\n",
        "\n",
        "if __name__ == '__main__':\n",
        "    main()"
      ]
    },
    {
      "cell_type": "code",
      "execution_count": 4,
      "metadata": {
        "colab": {
          "base_uri": "https://localhost:8080/"
        },
        "id": "oythrFNln3WJ",
        "outputId": "b2f38de5-2cfb-4366-e235-07a2f46326bf"
      },
      "outputs": [
        {
          "name": "stdout",
          "output_type": "stream",
          "text": [
            "Key:  kcgcdfccb\n",
            "\n",
            "CIPHER TEXT:  Lg ccud qh urg tgay ejbwdkt, wmgtf su bgud nkudnk lrd vjfbg. Yrhfm qvd vng sfuuxytj \"vkj_ecwo_ogp_ej_rnfkukf\" wt iq urtuwjm. Ocz iqa jdag vio uzthsivi pqx vkj pgyd encpggt. Uy hopg yjg fhkz arz hkscv ckoq pgfn vu wwygt nkioe zttft djkth.\n",
            "\n",
            "PLAIN TEXT: NK WW TF TB TQ DS CE XH HI YC DQ   RA DS GU QI FS GO FQ GO VB TC ZB KI     WT ID LR YK XL XN ZP SZ TO     QV     AG YM   ND     AH   SM DF QF     YR BU TQ ST ZA     MD UF RB HF EC ZB PT YU ET BZ FI SV QV FI DX GH MG NF DS   TZ DH NF ZH CD BD WI UW BD RG WK DL UL CD LX RZ VX DS LG HP IX OO DU FH DQ     "
          ]
        }
      ],
      "source": [
        "#PlayFair Cipher\n",
        "\n",
        "import string\n",
        "key=\"kcgcdfccb\"\n",
        "print(\"Key: \",key)\n",
        "key=key.replace(\" \", \"\")\n",
        "key=key.upper()\n",
        "def matrix(x,y,initial):\n",
        "    return [[initial for i in range(x)] for j in range(y)]\n",
        "\n",
        "result=list()\n",
        "for c in key:\n",
        "    if c not in result:\n",
        "        if c=='J':\n",
        "            result.append('I')\n",
        "        else:\n",
        "            result.append(c)\n",
        "flag=0\n",
        "for i in range(65,91):\n",
        "    if chr(i) not in result:\n",
        "        if i==73 and chr(74) not in result:\n",
        "            result.append(\"I\")\n",
        "            flag=1\n",
        "        elif flag==0 and i==73 or i==74:\n",
        "            pass\n",
        "        else:\n",
        "            result.append(chr(i))\n",
        "k=0\n",
        "my_matrix=matrix(5,5,0)\n",
        "for i in range(0,5):\n",
        "    for j in range(0,5):\n",
        "        my_matrix[i][j]=result[k]\n",
        "        k+=1\n",
        "\n",
        "def locindex(c):\n",
        "    loc=list()\n",
        "    if c == 'J':\n",
        "        c = 'I'\n",
        "    for i, row in enumerate(my_matrix):\n",
        "        for j, char in enumerate(row):\n",
        "            if c == char:\n",
        "                loc.append(i)\n",
        "                loc.append(j)\n",
        "                return loc\n",
        "    return None\n",
        "\n",
        "\n",
        "\n",
        "def decrypt():\n",
        "    msg = \"Lg ccud qh urg tgay ejbwdkt, wmgtf su bgud nkudnk lrd vjfbg. Yrhfm qvd vng sfuuxytj \\\"vkj_ecwo_ogp_ej_rnfkukf\\\" wt iq urtuwjm. Ocz iqa jdag vio uzthsivi pqx vkj pgyd encpggt. Uy hopg yjg fhkz arz hkscv ckoq pgfn vu wwygt nkioe zttft djkth.\"\n",
        "    print(\"\\nCIPHER TEXT: \",msg)\n",
        "    msg = msg.upper()\n",
        "    msg = msg.replace(\" \", \"\")\n",
        "    print(\"\\nPLAIN TEXT:\", end=' ')\n",
        "    i = 0\n",
        "    while i < len(msg):\n",
        "        loc = locindex(msg[i])\n",
        "        if i + 1 < len(msg):\n",
        "            loc1 = locindex(msg[i + 1])\n",
        "        else:\n",
        "            loc1 = None\n",
        "        if loc is not None and loc1 is not None:\n",
        "            if loc[1] == loc1[1]:\n",
        "                print(\"{}{}\".format(my_matrix[(loc[0] - 1) % 5][loc[1]], my_matrix[(loc1[0] - 1) % 5][loc1[1]]), end=' ')\n",
        "            elif loc[0] == loc1[0]:\n",
        "                print(\"{}{}\".format(my_matrix[loc[0]][(loc[1] - 1) % 5], my_matrix[loc1[0]][(loc1[1] - 1) % 5]), end=' ')\n",
        "            else:\n",
        "                print(\"{}{}\".format(my_matrix[loc[0]][loc1[1]], my_matrix[loc1[0]][loc[1]]), end=' ')\n",
        "            i = i + 2\n",
        "        else:\n",
        "            print(\" \", end=' ')\n",
        "            i += 1\n",
        "\n",
        "decrypt()\n"
      ]
    },
    {
      "cell_type": "code",
      "execution_count": 5,
      "metadata": {
        "colab": {
          "base_uri": "https://localhost:8080/",
          "height": 337
        },
        "id": "f_4BZFqGi_kf",
        "outputId": "866b4e60-44fa-420b-fc7e-04fd0aa06b3c"
      },
      "outputs": [
        {
          "name": "stdout",
          "output_type": "stream",
          "text": [
            "Key: \n",
            "kcgcdfccb\n",
            "\n",
            "CipherText: \n",
            "Lg ccud qh urg tgay ejbwdkt, wmgtf su bgud nkudnk lrd vjfbg. Yrhfm qvd vng sfuuxytj \"vkj_ecwo_ogp_ej_rnfkukf\" wt iq urtuwjm. Ocz iqa jdag vio uzthsivi pqx vkj pgyd encpggt. Uy hopg yjg fhkz arz hkscv ckoq pgfn vu wwygt nkioe zttft djkth.\n",
            "\n",
            "Key Length: 9\n",
            "CipherText Length: 237\n",
            "\n",
            "PlainText: \n",
            "Be wary of the next chamber, there is very little joy there. Speak out the password \"the_cave_man_be_pleased\" to go through. May you have the strength for the next chamber. To find the exit you first will need to utter magic words there.\n"
          ]
        }
      ],
      "source": [
        "#Vignere Cipher\n",
        "\n",
        "cipher_text=\"Lg ccud qh urg tgay ejbwdkt, wmgtf su bgud nkudnk lrd vjfbg. Yrhfm qvd vng sfuuxytj \\\"vkj_ecwo_ogp_ej_rnfkukf\\\" wt iq urtuwjm. Ocz iqa jdag vio uzthsivi pqx vkj pgyd encpggt. Uy hopg yjg fhkz arz hkscv ckoq pgfn vu wwygt nkioe zttft djkth.\"\n",
        "key=\"kcgcdfccb\"\n",
        "\n",
        "j=0\n",
        "cipher_text_len=len(cipher_text)\n",
        "key_len=len(key)\n",
        "plain_text=\"\"\n",
        "for i in range(cipher_text_len):\n",
        "    if(ord(cipher_text[i])>=ord('a') and ord(cipher_text[i])<=ord('z')):\n",
        "        ord_cipher=ord(cipher_text[i])\n",
        "        ord_key=ord(key[j])\n",
        "        plain_text_char_temp=(ord_cipher-ord_key+26)%26\n",
        "        plain_text_char=chr(ord('a')+plain_text_char_temp)\n",
        "\n",
        "        j=(j+1)%key_len\n",
        "    elif(ord(cipher_text[i])>=ord('A') and ord(cipher_text[i])<=ord('Z')):\n",
        "        ord_cipher=ord(cipher_text[i])\n",
        "        ord_key=ord(key[j].upper())\n",
        "        plain_text_char_temp=(ord_cipher-ord_key+26)%26\n",
        "        plain_text_char=chr(ord('A')+plain_text_char_temp)\n",
        "        j=(j+1)%key_len\n",
        "    else:\n",
        "        plain_text_char=cipher_text[i]\n",
        "    plain_text+=plain_text_char\n",
        "print(\"Key: \\n\"+key)\n",
        "print(\"\\nCipherText: \\n\"+cipher_text)\n",
        "print(\"\\nKey Length: \"+str(key_len)+\"\\nCipherText Length: \"+str(cipher_text_len))\n",
        "\n",
        "print(\"\\nPlainText: \\n\"+plain_text)\n"
      ]
    }
  ],
  "metadata": {
    "colab": {
      "provenance": []
    },
    "kernelspec": {
      "display_name": "Python 3",
      "name": "python3"
    },
    "language_info": {
      "codemirror_mode": {
        "name": "ipython",
        "version": 3
      },
      "file_extension": ".py",
      "mimetype": "text/x-python",
      "name": "python",
      "nbconvert_exporter": "python",
      "pygments_lexer": "ipython3",
      "version": "3.11.6"
    }
  },
  "nbformat": 4,
  "nbformat_minor": 0
}
