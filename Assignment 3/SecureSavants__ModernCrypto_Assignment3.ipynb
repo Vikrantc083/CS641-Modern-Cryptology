{
  "nbformat": 4,
  "nbformat_minor": 0,
  "metadata": {
    "colab": {
      "provenance": []
    },
    "kernelspec": {
      "name": "python3",
      "display_name": "Python 3"
    },
    "language_info": {
      "name": "python"
    }
  },
  "cells": [
    {
      "cell_type": "code",
      "source": [
        "#Index Of Coincidence\n",
        "alph = \"abcdefghijklmnopqrstuvwxyz\"\n",
        "\n",
        "def isLetter(char):\n",
        "\treturn (char in alph)\n",
        "\n",
        "def countLetters(text):\n",
        "\tcount = 0\n",
        "\tfor i in text:\n",
        "\t\tif(isLetter(i)):\n",
        "\t\t\tcount += 1\n",
        "\treturn count\n",
        "\n",
        "def getIOC(text):\n",
        "\tletterCounts = []\n",
        "\n",
        "\t# Loop through each letter in the alphabet - count number of times it appears\n",
        "\tfor i in range(len(alph)):\n",
        "\t\tcount = 0\n",
        "\t\tfor j in text:\n",
        "\t\t\tif j == alph[i]:\n",
        "\t\t\t\tcount += 1\n",
        "\t\tletterCounts.append(count)\n",
        "\n",
        "\t# Loop through all letter counts, applying the calculation (the sigma part)\n",
        "\ttotal = 0\n",
        "\tfor i in range(len(letterCounts)):\n",
        "\t\tni = letterCounts[i]\n",
        "\t\ttotal += ni * (ni - 1)\n",
        "\n",
        "\tN = countLetters(text)\n",
        "\tc = 26.0 # Number of letters in the alphabet\n",
        "\ttotal = float(total) / ((N * (N - 1)))\n",
        "\treturn total\n",
        "t = \"qmnjvsa nv wewc flct vprj tj tvvplvl fv xja vqildhc xmlnvc nacyclpa fc gyt vfvw. fv wgqyp, pqq pqcs y wsq rx qmnjvafy cgv tlvhf cw tyl aeuq fv xja tkbv cqnsqs.  lhf avawnc cv eas fuqb qvq tc yllrqr xxwa cfy. psdc uqf avrqc gefq pyat trac xwv taa wwd dv eas flcbq. vd trawm vupq quw x decgqcwt, yq yafl vlqs yqklhq! snafq vml lhvqpawr nqg_vfusr_ec_wawy qp fn wgawdgf.\"\n",
        "text = t.lower()\n",
        "total = getIOC(text)\n",
        "print(\"IOC: \" + str(total))\n",
        "print(\"Normalised IOC: \" + str(total * 26.0))"
      ],
      "metadata": {
        "colab": {
          "base_uri": "https://localhost:8080/"
        },
        "id": "kxmMpcuJ5A7p",
        "outputId": "6eea399c-85a6-41c1-989d-72a51743eb0e"
      },
      "execution_count": null,
      "outputs": [
        {
          "output_type": "stream",
          "name": "stdout",
          "text": [
            "IOC: 0.05728363111531379\n",
            "Normalised IOC: 1.4893744089981584\n"
          ]
        }
      ]
    },
    {
      "cell_type": "code",
      "source": [
        "#Substitution Cipher\n",
        "\n",
        "def substitution_cipher(text,subs_val):\n",
        "    decrypted_text = \"\"\n",
        "    for char in text:\n",
        "        if char.isalpha():\n",
        "            # Check if the character is lowercase\n",
        "            if char.islower():\n",
        "                decrypted_text += chr((ord(char) - ord('a') + subs_val) % 26 + ord('a'))\n",
        "            # Check if the character is uppercase\n",
        "            elif char.isupper():\n",
        "                decrypted_text += chr((ord(char) - ord('A') + subs_val) % 26 + ord('A'))\n",
        "        else:\n",
        "            decrypted_text += char\n",
        "    return decrypted_text\n",
        "\n",
        "\n",
        "\n",
        "for i in range(1,26):\n",
        "  print(\"Substitution Value: \",i)\n",
        "  Ciphertext =  \"qmnjvsa nv wewc flct vprj tj tvvplvl fv xja vqildhc xmlnvc nacyclpa fc gyt vfvw. fv wgqyp, pqq pqcs y wsq rx qmnjvafy cgv tlvhf cw tyl aeuq fv xja tkbv cqnsqs.  lhf avawnc cv eas fuqb qvq tc yllrqr xxwa cfy. psdc uqf avrqc gefq pyat trac xwv taa wwd dv eas flcbq. vd trawm vupq quw x decgqcwt, yq yafl vlqs yqklhq! snafq vml lhvqpawr nqg_vfusr_ec_wawy qp fn wgawdgf.\"\n",
        "  print(\"CipherText: \", Ciphertext)\n",
        "  decrypted_text = substitution_cipher(Ciphertext,i)\n",
        "  print(\"Decrypted:  \",decrypted_text)"
      ],
      "metadata": {
        "colab": {
          "base_uri": "https://localhost:8080/"
        },
        "id": "0YoEcPIS6Ook",
        "outputId": "c5b5fcaa-b586-4082-925e-4b30efd3f49f"
      },
      "execution_count": null,
      "outputs": [
        {
          "output_type": "stream",
          "name": "stdout",
          "text": [
            "Substitution Value:  1\n",
            "CipherText:  qmnjvsa nv wewc flct vprj tj tvvplvl fv xja vqildhc xmlnvc nacyclpa fc gyt vfvw. fv wgqyp, pqq pqcs y wsq rx qmnjvafy cgv tlvhf cw tyl aeuq fv xja tkbv cqnsqs.  lhf avawnc cv eas fuqb qvq tc yllrqr xxwa cfy. psdc uqf avrqc gefq pyat trac xwv taa wwd dv eas flcbq. vd trawm vupq quw x decgqcwt, yq yafl vlqs yqklhq! snafq vml lhvqpawr nqg_vfusr_ec_wawy qp fn wgawdgf.\n",
            "Decrypted:   rnokwtb ow xfxd gmdu wqsk uk uwwqmwm gw ykb wrjmeid ynmowd obdzdmqb gd hzu wgwx. gw xhrzq, qrr qrdt z xtr sy rnokwbgz dhw umwig dx uzm bfvr gw ykb ulcw drotrt.  mig bwbxod dw fbt gvrc rwr ud zmmsrs yyxb dgz. qted vrg bwsrd hfgr qzbu usbd yxw ubb xxe ew fbt gmdcr. we usbxn wvqr rvx y efdhrdxu, zr zbgm wmrt zrlmir! tobgr wnm miwrqbxs orh_wgvts_fd_xbxz rq go xhbxehg.\n",
            "Substitution Value:  2\n",
            "CipherText:  qmnjvsa nv wewc flct vprj tj tvvplvl fv xja vqildhc xmlnvc nacyclpa fc gyt vfvw. fv wgqyp, pqq pqcs y wsq rx qmnjvafy cgv tlvhf cw tyl aeuq fv xja tkbv cqnsqs.  lhf avawnc cv eas fuqb qvq tc yllrqr xxwa cfy. psdc uqf avrqc gefq pyat trac xwv taa wwd dv eas flcbq. vd trawm vupq quw x decgqcwt, yq yafl vlqs yqklhq! snafq vml lhvqpawr nqg_vfusr_ec_wawy qp fn wgawdgf.\n",
            "Decrypted:   soplxuc px ygye hnev xrtl vl vxxrnxn hx zlc xsknfje zonpxe pceaenrc he iav xhxy. hx yisar, rss rseu a yus tz soplxcha eix vnxjh ey van cgws hx zlc vmdx espusu.  njh cxcype ex gcu hwsd sxs ve anntst zzyc eha. rufe wsh cxtse ighs racv vtce zyx vcc yyf fx gcu hneds. xf vtcyo xwrs swy z fgeiseyv, as achn xnsu asmnjs! upchs xon njxsrcyt psi_xhwut_ge_ycya sr hp yicyfih.\n",
            "Substitution Value:  3\n",
            "CipherText:  qmnjvsa nv wewc flct vprj tj tvvplvl fv xja vqildhc xmlnvc nacyclpa fc gyt vfvw. fv wgqyp, pqq pqcs y wsq rx qmnjvafy cgv tlvhf cw tyl aeuq fv xja tkbv cqnsqs.  lhf avawnc cv eas fuqb qvq tc yllrqr xxwa cfy. psdc uqf avrqc gefq pyat trac xwv taa wwd dv eas flcbq. vd trawm vupq quw x decgqcwt, yq yafl vlqs yqklhq! snafq vml lhvqpawr nqg_vfusr_ec_wawy qp fn wgawdgf.\n",
            "Decrypted:   tpqmyvd qy zhzf iofw ysum wm wyysoyo iy amd ytlogkf apoqyf qdfbfosd if jbw yiyz. iy zjtbs, stt stfv b zvt ua tpqmydib fjy woyki fz wbo dhxt iy amd wney ftqvtv.  oki dydzqf fy hdv ixte tyt wf booutu aazd fib. svgf xti dyutf jhit sbdw wudf azy wdd zzg gy hdv iofet. yg wudzp yxst txz a ghfjtfzw, bt bdio yotv btnokt! vqdit ypo okytsdzu qtj_yixvu_hf_zdzb ts iq zjdzgji.\n",
            "Substitution Value:  4\n",
            "CipherText:  qmnjvsa nv wewc flct vprj tj tvvplvl fv xja vqildhc xmlnvc nacyclpa fc gyt vfvw. fv wgqyp, pqq pqcs y wsq rx qmnjvafy cgv tlvhf cw tyl aeuq fv xja tkbv cqnsqs.  lhf avawnc cv eas fuqb qvq tc yllrqr xxwa cfy. psdc uqf avrqc gefq pyat trac xwv taa wwd dv eas flcbq. vd trawm vupq quw x decgqcwt, yq yafl vlqs yqklhq! snafq vml lhvqpawr nqg_vfusr_ec_wawy qp fn wgawdgf.\n",
            "Decrypted:   uqrnzwe rz aiag jpgx ztvn xn xzztpzp jz bne zumphlg bqprzg regcgpte jg kcx zjza. jz akuct, tuu tugw c awu vb uqrnzejc gkz xpzlj ga xcp eiyu jz bne xofz gurwuw.  plj ezearg gz iew jyuf uzu xg cppvuv bbae gjc. twhg yuj ezvug kiju tcex xveg baz xee aah hz iew jpgfu. zh xveaq zytu uya b higkugax, cu cejp zpuw cuoplu! wreju zqp plzuteav ruk_zjywv_ig_aeac ut jr akeahkj.\n",
            "Substitution Value:  5\n",
            "CipherText:  qmnjvsa nv wewc flct vprj tj tvvplvl fv xja vqildhc xmlnvc nacyclpa fc gyt vfvw. fv wgqyp, pqq pqcs y wsq rx qmnjvafy cgv tlvhf cw tyl aeuq fv xja tkbv cqnsqs.  lhf avawnc cv eas fuqb qvq tc yllrqr xxwa cfy. psdc uqf avrqc gefq pyat trac xwv taa wwd dv eas flcbq. vd trawm vupq quw x decgqcwt, yq yafl vlqs yqklhq! snafq vml lhvqpawr nqg_vfusr_ec_wawy qp fn wgawdgf.\n",
            "Decrypted:   vrsoaxf sa bjbh kqhy auwo yo yaauqaq ka cof avnqimh crqsah sfhdhquf kh ldy akab. ka blvdu, uvv uvhx d bxv wc vrsoafkd hla yqamk hb ydq fjzv ka cof ypga hvsxvx.  qmk fafbsh ha jfx kzvg vav yh dqqwvw ccbf hkd. uxih zvk fawvh ljkv udfy ywfh cba yff bbi ia jfx kqhgv. ai ywfbr azuv vzb c ijhlvhby, dv dfkq aqvx dvpqmv! xsfkv arq qmavufbw svl_akzxw_jh_bfbd vu ks blfbilk.\n",
            "Substitution Value:  6\n",
            "CipherText:  qmnjvsa nv wewc flct vprj tj tvvplvl fv xja vqildhc xmlnvc nacyclpa fc gyt vfvw. fv wgqyp, pqq pqcs y wsq rx qmnjvafy cgv tlvhf cw tyl aeuq fv xja tkbv cqnsqs.  lhf avawnc cv eas fuqb qvq tc yllrqr xxwa cfy. psdc uqf avrqc gefq pyat trac xwv taa wwd dv eas flcbq. vd trawm vupq quw x decgqcwt, yq yafl vlqs yqklhq! snafq vml lhvqpawr nqg_vfusr_ec_wawy qp fn wgawdgf.\n",
            "Decrypted:   wstpbyg tb ckci lriz bvxp zp zbbvrbr lb dpg bworjni dsrtbi tgieirvg li mez blbc. lb cmwev, vww vwiy e cyw xd wstpbgle imb zrbnl ic zer gkaw lb dpg zqhb iwtywy.  rnl gbgcti ib kgy lawh wbw zi errxwx ddcg ile. vyji awl gbxwi mklw vegz zxgi dcb zgg ccj jb kgy lrihw. bj zxgcs bavw wac d jkimwicz, ew eglr brwy ewqrnw! ytglw bsr rnbwvgcx twm_blayx_ki_cgce wv lt cmgcjml.\n",
            "Substitution Value:  7\n",
            "CipherText:  qmnjvsa nv wewc flct vprj tj tvvplvl fv xja vqildhc xmlnvc nacyclpa fc gyt vfvw. fv wgqyp, pqq pqcs y wsq rx qmnjvafy cgv tlvhf cw tyl aeuq fv xja tkbv cqnsqs.  lhf avawnc cv eas fuqb qvq tc yllrqr xxwa cfy. psdc uqf avrqc gefq pyat trac xwv taa wwd dv eas flcbq. vd trawm vupq quw x decgqcwt, yq yafl vlqs yqklhq! snafq vml lhvqpawr nqg_vfusr_ec_wawy qp fn wgawdgf.\n",
            "Decrypted:   xtuqczh uc dldj msja cwyq aq accwscs mc eqh cxpskoj etsucj uhjfjswh mj nfa cmcd. mc dnxfw, wxx wxjz f dzx ye xtuqchmf jnc ascom jd afs hlbx mc eqh aric jxuzxz.  som hchduj jc lhz mbxi xcx aj fssyxy eedh jmf. wzkj bxm hcyxj nlmx wfha ayhj edc ahh ddk kc lhz msjix. ck ayhdt cbwx xbd e kljnxjda, fx fhms csxz fxrsox! zuhmx cts socxwhdy uxn_cmbzy_lj_dhdf xw mu dnhdknm.\n",
            "Substitution Value:  8\n",
            "CipherText:  qmnjvsa nv wewc flct vprj tj tvvplvl fv xja vqildhc xmlnvc nacyclpa fc gyt vfvw. fv wgqyp, pqq pqcs y wsq rx qmnjvafy cgv tlvhf cw tyl aeuq fv xja tkbv cqnsqs.  lhf avawnc cv eas fuqb qvq tc yllrqr xxwa cfy. psdc uqf avrqc gefq pyat trac xwv taa wwd dv eas flcbq. vd trawm vupq quw x decgqcwt, yq yafl vlqs yqklhq! snafq vml lhvqpawr nqg_vfusr_ec_wawy qp fn wgawdgf.\n",
            "Decrypted:   yuvrdai vd emek ntkb dxzr br bddxtdt nd fri dyqtlpk futvdk vikgktxi nk ogb dnde. nd eoygx, xyy xyka g eay zf yuvrding kod btdpn ke bgt imcy nd fri bsjd kyvaya.  tpn idievk kd mia ncyj ydy bk gttzyz ffei kng. xalk cyn idzyk omny xgib bzik fed bii eel ld mia ntkjy. dl bzieu dcxy yce f lmkoykeb, gy gint dtya gystpy! aviny dut tpdyxiez vyo_dncaz_mk_eieg yx nv eoielon.\n",
            "Substitution Value:  9\n",
            "CipherText:  qmnjvsa nv wewc flct vprj tj tvvplvl fv xja vqildhc xmlnvc nacyclpa fc gyt vfvw. fv wgqyp, pqq pqcs y wsq rx qmnjvafy cgv tlvhf cw tyl aeuq fv xja tkbv cqnsqs.  lhf avawnc cv eas fuqb qvq tc yllrqr xxwa cfy. psdc uqf avrqc gefq pyat trac xwv taa wwd dv eas flcbq. vd trawm vupq quw x decgqcwt, yq yafl vlqs yqklhq! snafq vml lhvqpawr nqg_vfusr_ec_wawy qp fn wgawdgf.\n",
            "Decrypted:   zvwsebj we fnfl oulc eyas cs ceeyueu oe gsj ezrumql gvuwel wjlhluyj ol phc eoef. oe fpzhy, yzz yzlb h fbz ag zvwsejoh lpe cueqo lf chu jndz oe gsj ctke lzwbzb.  uqo jejfwl le njb odzk zez cl huuaza ggfj loh. ybml dzo jeazl pnoz yhjc cajl gfe cjj ffm me njb oulkz. em cajfv edyz zdf g mnlpzlfc, hz hjou euzb hztuqz! bwjoz evu uqezyjfa wzp_eodba_nl_fjfh zy ow fpjfmpo.\n",
            "Substitution Value:  10\n",
            "CipherText:  qmnjvsa nv wewc flct vprj tj tvvplvl fv xja vqildhc xmlnvc nacyclpa fc gyt vfvw. fv wgqyp, pqq pqcs y wsq rx qmnjvafy cgv tlvhf cw tyl aeuq fv xja tkbv cqnsqs.  lhf avawnc cv eas fuqb qvq tc yllrqr xxwa cfy. psdc uqf avrqc gefq pyat trac xwv taa wwd dv eas flcbq. vd trawm vupq quw x decgqcwt, yq yafl vlqs yqklhq! snafq vml lhvqpawr nqg_vfusr_ec_wawy qp fn wgawdgf.\n",
            "Decrypted:   awxtfck xf gogm pvmd fzbt dt dffzvfv pf htk fasvnrm hwvxfm xkmimvzk pm qid fpfg. pf gqaiz, zaa zamc i gca bh awxtfkpi mqf dvfrp mg div koea pf htk dulf maxcac.  vrp kfkgxm mf okc peal afa dm ivvbab hhgk mpi. zcnm eap kfbam qopa zikd dbkm hgf dkk ggn nf okc pvmla. fn dbkgw feza aeg h nomqamgd, ia ikpv fvac iauvra! cxkpa fwv vrfazkgb xaq_fpecb_om_gkgi az px gqkgnqp.\n",
            "Substitution Value:  11\n",
            "CipherText:  qmnjvsa nv wewc flct vprj tj tvvplvl fv xja vqildhc xmlnvc nacyclpa fc gyt vfvw. fv wgqyp, pqq pqcs y wsq rx qmnjvafy cgv tlvhf cw tyl aeuq fv xja tkbv cqnsqs.  lhf avawnc cv eas fuqb qvq tc yllrqr xxwa cfy. psdc uqf avrqc gefq pyat trac xwv taa wwd dv eas flcbq. vd trawm vupq quw x decgqcwt, yq yafl vlqs yqklhq! snafq vml lhvqpawr nqg_vfusr_ec_wawy qp fn wgawdgf.\n",
            "Decrypted:   bxyugdl yg hphn qwne gacu eu eggawgw qg iul gbtwosn ixwygn ylnjnwal qn rje gqgh. qg hrbja, abb abnd j hdb ci bxyuglqj nrg ewgsq nh ejw lpfb qg iul evmg nbydbd.  wsq lglhyn ng pld qfbm bgb en jwwcbc iihl nqj. adon fbq lgcbn rpqb ajle ecln ihg ell hho og pld qwnmb. go eclhx gfab bfh i opnrbnhe, jb jlqw gwbd jbvwsb! dylqb gxw wsgbalhc ybr_gqfdc_pn_hlhj ba qy hrlhorq.\n",
            "Substitution Value:  12\n",
            "CipherText:  qmnjvsa nv wewc flct vprj tj tvvplvl fv xja vqildhc xmlnvc nacyclpa fc gyt vfvw. fv wgqyp, pqq pqcs y wsq rx qmnjvafy cgv tlvhf cw tyl aeuq fv xja tkbv cqnsqs.  lhf avawnc cv eas fuqb qvq tc yllrqr xxwa cfy. psdc uqf avrqc gefq pyat trac xwv taa wwd dv eas flcbq. vd trawm vupq quw x decgqcwt, yq yafl vlqs yqklhq! snafq vml lhvqpawr nqg_vfusr_ec_wawy qp fn wgawdgf.\n",
            "Decrypted:   cyzvhem zh iqio rxof hbdv fv fhhbxhx rh jvm hcuxpto jyxzho zmokoxbm ro skf hrhi. rh isckb, bcc bcoe k iec dj cyzvhmrk osh fxhtr oi fkx mqgc rh jvm fwnh oczece.  xtr mhmizo oh qme rgcn chc fo kxxdcd jjim ork. bepo gcr mhdco sqrc bkmf fdmo jih fmm iip ph qme rxonc. hp fdmiy hgbc cgi j pqoscoif, kc kmrx hxce kcwxtc! ezmrc hyx xthcbmid zcs_hrged_qo_imik cb rz ismipsr.\n",
            "Substitution Value:  13\n",
            "CipherText:  qmnjvsa nv wewc flct vprj tj tvvplvl fv xja vqildhc xmlnvc nacyclpa fc gyt vfvw. fv wgqyp, pqq pqcs y wsq rx qmnjvafy cgv tlvhf cw tyl aeuq fv xja tkbv cqnsqs.  lhf avawnc cv eas fuqb qvq tc yllrqr xxwa cfy. psdc uqf avrqc gefq pyat trac xwv taa wwd dv eas flcbq. vd trawm vupq quw x decgqcwt, yq yafl vlqs yqklhq! snafq vml lhvqpawr nqg_vfusr_ec_wawy qp fn wgawdgf.\n",
            "Decrypted:   dzawifn ai jrjp sypg icew gw giicyiy si kwn idvyqup kzyaip anplpycn sp tlg isij. si jtdlc, cdd cdpf l jfd ek dzawinsl pti gyius pj gly nrhd si kwn gxoi pdafdf.  yus ninjap pi rnf shdo did gp lyyede kkjn psl. cfqp hds niedp trsd clng genp kji gnn jjq qi rnf sypod. iq genjz ihcd dhj k qrptdpjg, ld lnsy iydf ldxyud! fansd izy yuidcnje adt_ishfe_rp_jnjl dc sa jtnjqts.\n",
            "Substitution Value:  14\n",
            "CipherText:  qmnjvsa nv wewc flct vprj tj tvvplvl fv xja vqildhc xmlnvc nacyclpa fc gyt vfvw. fv wgqyp, pqq pqcs y wsq rx qmnjvafy cgv tlvhf cw tyl aeuq fv xja tkbv cqnsqs.  lhf avawnc cv eas fuqb qvq tc yllrqr xxwa cfy. psdc uqf avrqc gefq pyat trac xwv taa wwd dv eas flcbq. vd trawm vupq quw x decgqcwt, yq yafl vlqs yqklhq! snafq vml lhvqpawr nqg_vfusr_ec_wawy qp fn wgawdgf.\n",
            "Decrypted:   eabxjgo bj kskq tzqh jdfx hx hjjdzjz tj lxo jewzrvq lazbjq boqmqzdo tq umh jtjk. tj kuemd, dee deqg m kge fl eabxjotm quj hzjvt qk hmz osie tj lxo hypj qebgeg.  zvt ojokbq qj sog tiep eje hq mzzfef llko qtm. dgrq iet ojfeq uste dmoh hfoq lkj hoo kkr rj sog tzqpe. jr hfoka jide eik l rsqueqkh, me motz jzeg meyzve! gbote jaz zvjedokf beu_jtigf_sq_kokm ed tb kuokrut.\n",
            "Substitution Value:  15\n",
            "CipherText:  qmnjvsa nv wewc flct vprj tj tvvplvl fv xja vqildhc xmlnvc nacyclpa fc gyt vfvw. fv wgqyp, pqq pqcs y wsq rx qmnjvafy cgv tlvhf cw tyl aeuq fv xja tkbv cqnsqs.  lhf avawnc cv eas fuqb qvq tc yllrqr xxwa cfy. psdc uqf avrqc gefq pyat trac xwv taa wwd dv eas flcbq. vd trawm vupq quw x decgqcwt, yq yafl vlqs yqklhq! snafq vml lhvqpawr nqg_vfusr_ec_wawy qp fn wgawdgf.\n",
            "Decrypted:   fbcykhp ck ltlr uari kegy iy ikkeaka uk myp kfxaswr mbackr cprnraep ur vni kukl. uk lvfne, eff efrh n lhf gm fbcykpun rvk iakwu rl ina ptjf uk myp izqk rfchfh.  awu pkplcr rk tph ujfq fkf ir naagfg mmlp run. ehsr jfu pkgfr vtuf enpi igpr mlk ipp lls sk tph uarqf. ks igplb kjef fjl m strvfrli, nf npua kafh nfzawf! hcpuf kba awkfeplg cfv_kujhg_tr_lpln fe uc lvplsvu.\n",
            "Substitution Value:  16\n",
            "CipherText:  qmnjvsa nv wewc flct vprj tj tvvplvl fv xja vqildhc xmlnvc nacyclpa fc gyt vfvw. fv wgqyp, pqq pqcs y wsq rx qmnjvafy cgv tlvhf cw tyl aeuq fv xja tkbv cqnsqs.  lhf avawnc cv eas fuqb qvq tc yllrqr xxwa cfy. psdc uqf avrqc gefq pyat trac xwv taa wwd dv eas flcbq. vd trawm vupq quw x decgqcwt, yq yafl vlqs yqklhq! snafq vml lhvqpawr nqg_vfusr_ec_wawy qp fn wgawdgf.\n",
            "Decrypted:   gcdzliq dl mums vbsj lfhz jz jllfblb vl nzq lgybtxs ncbdls dqsosbfq vs woj lvlm. vl mwgof, fgg fgsi o mig hn gcdzlqvo swl jblxv sm job qukg vl nzq jarl sgdigi.  bxv qlqmds sl uqi vkgr glg js obbhgh nnmq svo. fits kgv qlhgs wuvg foqj jhqs nml jqq mmt tl uqi vbsrg. lt jhqmc lkfg gkm n tuswgsmj, og oqvb lbgi ogabxg! idqvg lcb bxlgfqmh dgw_lvkih_us_mqmo gf vd mwqmtwv.\n",
            "Substitution Value:  17\n",
            "CipherText:  qmnjvsa nv wewc flct vprj tj tvvplvl fv xja vqildhc xmlnvc nacyclpa fc gyt vfvw. fv wgqyp, pqq pqcs y wsq rx qmnjvafy cgv tlvhf cw tyl aeuq fv xja tkbv cqnsqs.  lhf avawnc cv eas fuqb qvq tc yllrqr xxwa cfy. psdc uqf avrqc gefq pyat trac xwv taa wwd dv eas flcbq. vd trawm vupq quw x decgqcwt, yq yafl vlqs yqklhq! snafq vml lhvqpawr nqg_vfusr_ec_wawy qp fn wgawdgf.\n",
            "Decrypted:   hdeamjr em nvnt wctk mgia ka kmmgcmc wm oar mhzcuyt odcemt ertptcgr wt xpk mwmn. wm nxhpg, ghh ghtj p njh io hdeamrwp txm kcmyw tn kpc rvlh wm oar kbsm thejhj.  cyw rmrnet tm vrj wlhs hmh kt pccihi oonr twp. gjut lhw rmiht xvwh gprk kirt onm krr nnu um vrj wctsh. mu kirnd mlgh hln o uvtxhtnk, ph prwc mchj phbcyh! jerwh mdc cymhgrni ehx_mwlji_vt_nrnp hg we nxrnuxw.\n",
            "Substitution Value:  18\n",
            "CipherText:  qmnjvsa nv wewc flct vprj tj tvvplvl fv xja vqildhc xmlnvc nacyclpa fc gyt vfvw. fv wgqyp, pqq pqcs y wsq rx qmnjvafy cgv tlvhf cw tyl aeuq fv xja tkbv cqnsqs.  lhf avawnc cv eas fuqb qvq tc yllrqr xxwa cfy. psdc uqf avrqc gefq pyat trac xwv taa wwd dv eas flcbq. vd trawm vupq quw x decgqcwt, yq yafl vlqs yqklhq! snafq vml lhvqpawr nqg_vfusr_ec_wawy qp fn wgawdgf.\n",
            "Decrypted:   iefbnks fn owou xdul nhjb lb lnnhdnd xn pbs niadvzu pedfnu fsuqudhs xu yql nxno. xn oyiqh, hii hiuk q oki jp iefbnsxq uyn ldnzx uo lqd swmi xn pbs lctn uifkik.  dzx snsofu un wsk xmit ini lu qddjij ppos uxq. hkvu mix snjiu ywxi hqsl ljsu pon lss oov vn wsk xduti. nv ljsoe nmhi imo p vwuyiuol, qi qsxd ndik qicdzi! kfsxi ned dznihsoj fiy_nxmkj_wu_osoq ih xf oysovyx.\n",
            "Substitution Value:  19\n",
            "CipherText:  qmnjvsa nv wewc flct vprj tj tvvplvl fv xja vqildhc xmlnvc nacyclpa fc gyt vfvw. fv wgqyp, pqq pqcs y wsq rx qmnjvafy cgv tlvhf cw tyl aeuq fv xja tkbv cqnsqs.  lhf avawnc cv eas fuqb qvq tc yllrqr xxwa cfy. psdc uqf avrqc gefq pyat trac xwv taa wwd dv eas flcbq. vd trawm vupq quw x decgqcwt, yq yafl vlqs yqklhq! snafq vml lhvqpawr nqg_vfusr_ec_wawy qp fn wgawdgf.\n",
            "Decrypted:   jfgcolt go pxpv yevm oikc mc mooieoe yo qct ojbewav qfegov gtvrveit yv zrm oyop. yo pzjri, ijj ijvl r plj kq jfgcotyr vzo meoay vp mre txnj yo qct mduo vjgljl.  eay totpgv vo xtl ynju joj mv reekjk qqpt vyr. ilwv njy tokjv zxyj irtm mktv qpo mtt ppw wo xtl yevuj. ow mktpf onij jnp q wxvzjvpm, rj rtye oejl rjdeaj! lgtyj ofe eaojitpk gjz_oynlk_xv_ptpr ji yg pztpwzy.\n",
            "Substitution Value:  20\n",
            "CipherText:  qmnjvsa nv wewc flct vprj tj tvvplvl fv xja vqildhc xmlnvc nacyclpa fc gyt vfvw. fv wgqyp, pqq pqcs y wsq rx qmnjvafy cgv tlvhf cw tyl aeuq fv xja tkbv cqnsqs.  lhf avawnc cv eas fuqb qvq tc yllrqr xxwa cfy. psdc uqf avrqc gefq pyat trac xwv taa wwd dv eas flcbq. vd trawm vupq quw x decgqcwt, yq yafl vlqs yqklhq! snafq vml lhvqpawr nqg_vfusr_ec_wawy qp fn wgawdgf.\n",
            "Decrypted:   kghdpmu hp qyqw zfwn pjld nd nppjfpf zp rdu pkcfxbw rgfhpw huwswfju zw asn pzpq. zp qaksj, jkk jkwm s qmk lr kghdpuzs wap nfpbz wq nsf uyok zp rdu nevp wkhmkm.  fbz upuqhw wp yum zokv kpk nw sfflkl rrqu wzs. jmxw okz uplkw ayzk jsun nluw rqp nuu qqx xp yum zfwvk. px nluqg pojk koq r xywakwqn, sk suzf pfkm skefbk! mhuzk pgf fbpkjuql hka_pzoml_yw_quqs kj zh qauqxaz.\n",
            "Substitution Value:  21\n",
            "CipherText:  qmnjvsa nv wewc flct vprj tj tvvplvl fv xja vqildhc xmlnvc nacyclpa fc gyt vfvw. fv wgqyp, pqq pqcs y wsq rx qmnjvafy cgv tlvhf cw tyl aeuq fv xja tkbv cqnsqs.  lhf avawnc cv eas fuqb qvq tc yllrqr xxwa cfy. psdc uqf avrqc gefq pyat trac xwv taa wwd dv eas flcbq. vd trawm vupq quw x decgqcwt, yq yafl vlqs yqklhq! snafq vml lhvqpawr nqg_vfusr_ec_wawy qp fn wgawdgf.\n",
            "Decrypted:   lhieqnv iq rzrx agxo qkme oe oqqkgqg aq sev qldgycx shgiqx ivxtxgkv ax bto qaqr. aq rbltk, kll klxn t rnl ms lhieqvat xbq ogqca xr otg vzpl aq sev ofwq xlinln.  gca vqvrix xq zvn aplw lql ox tggmlm ssrv xat. knyx pla vqmlx bzal ktvo omvx srq ovv rry yq zvn agxwl. qy omvrh qpkl lpr s yzxblxro, tl tvag qgln tlfgcl! nival qhg gcqlkvrm ilb_qapnm_zx_rvrt lk ai rbvryba.\n",
            "Substitution Value:  22\n",
            "CipherText:  qmnjvsa nv wewc flct vprj tj tvvplvl fv xja vqildhc xmlnvc nacyclpa fc gyt vfvw. fv wgqyp, pqq pqcs y wsq rx qmnjvafy cgv tlvhf cw tyl aeuq fv xja tkbv cqnsqs.  lhf avawnc cv eas fuqb qvq tc yllrqr xxwa cfy. psdc uqf avrqc gefq pyat trac xwv taa wwd dv eas flcbq. vd trawm vupq quw x decgqcwt, yq yafl vlqs yqklhq! snafq vml lhvqpawr nqg_vfusr_ec_wawy qp fn wgawdgf.\n",
            "Decrypted:   mijfrow jr sasy bhyp rlnf pf prrlhrh br tfw rmehzdy tihjry jwyuyhlw by cup rbrs. br scmul, lmm lmyo u som nt mijfrwbu ycr phrdb ys puh waqm br tfw pgxr ymjomo.  hdb wrwsjy yr awo bqmx mrm py uhhnmn ttsw ybu. lozy qmb wrnmy cabm luwp pnwy tsr pww ssz zr awo bhyxm. rz pnwsi rqlm mqs t zaycmysp, um uwbh rhmo umghdm! ojwbm rih hdrmlwsn jmc_rbqon_ay_swsu ml bj scwszcb.\n",
            "Substitution Value:  23\n",
            "CipherText:  qmnjvsa nv wewc flct vprj tj tvvplvl fv xja vqildhc xmlnvc nacyclpa fc gyt vfvw. fv wgqyp, pqq pqcs y wsq rx qmnjvafy cgv tlvhf cw tyl aeuq fv xja tkbv cqnsqs.  lhf avawnc cv eas fuqb qvq tc yllrqr xxwa cfy. psdc uqf avrqc gefq pyat trac xwv taa wwd dv eas flcbq. vd trawm vupq quw x decgqcwt, yq yafl vlqs yqklhq! snafq vml lhvqpawr nqg_vfusr_ec_wawy qp fn wgawdgf.\n",
            "Decrypted:   njkgspx ks tbtz cizq smog qg qssmisi cs ugx snfiaez ujiksz kxzvzimx cz dvq scst. cs tdnvm, mnn mnzp v tpn ou njkgsxcv zds qisec zt qvi xbrn cs ugx qhys znkpnp.  iec xsxtkz zs bxp crny nsn qz viiono uutx zcv. mpaz rnc xsonz dbcn mvxq qoxz uts qxx tta as bxp cizyn. sa qoxtj srmn nrt u abzdnztq, vn vxci sinp vnhien! pkxcn sji iesnmxto knd_scrpo_bz_txtv nm ck tdxtadc.\n",
            "Substitution Value:  24\n",
            "CipherText:  qmnjvsa nv wewc flct vprj tj tvvplvl fv xja vqildhc xmlnvc nacyclpa fc gyt vfvw. fv wgqyp, pqq pqcs y wsq rx qmnjvafy cgv tlvhf cw tyl aeuq fv xja tkbv cqnsqs.  lhf avawnc cv eas fuqb qvq tc yllrqr xxwa cfy. psdc uqf avrqc gefq pyat trac xwv taa wwd dv eas flcbq. vd trawm vupq quw x decgqcwt, yq yafl vlqs yqklhq! snafq vml lhvqpawr nqg_vfusr_ec_wawy qp fn wgawdgf.\n",
            "Decrypted:   oklhtqy lt ucua djar tnph rh rttnjtj dt vhy togjbfa vkjlta lyawajny da ewr tdtu. dt ueown, noo noaq w uqo pv oklhtydw aet rjtfd au rwj ycso dt vhy rizt aolqoq.  jfd ytyula at cyq dsoz oto ra wjjpop vvuy adw. nqba sod ytpoa ecdo nwyr rpya vut ryy uub bt cyq djazo. tb rpyuk tsno osu v bcaeoaur, wo wydj tjoq woijfo! qlydo tkj jftonyup loe_tdsqp_ca_uyuw on dl ueyubed.\n",
            "Substitution Value:  25\n",
            "CipherText:  qmnjvsa nv wewc flct vprj tj tvvplvl fv xja vqildhc xmlnvc nacyclpa fc gyt vfvw. fv wgqyp, pqq pqcs y wsq rx qmnjvafy cgv tlvhf cw tyl aeuq fv xja tkbv cqnsqs.  lhf avawnc cv eas fuqb qvq tc yllrqr xxwa cfy. psdc uqf avrqc gefq pyat trac xwv taa wwd dv eas flcbq. vd trawm vupq quw x decgqcwt, yq yafl vlqs yqklhq! snafq vml lhvqpawr nqg_vfusr_ec_wawy qp fn wgawdgf.\n",
            "Decrypted:   plmiurz mu vdvb ekbs uoqi si suuokuk eu wiz uphkcgb wlkmub mzbxbkoz eb fxs ueuv. eu vfpxo, opp opbr x vrp qw plmiuzex bfu skuge bv sxk zdtp eu wiz sjau bpmrpr.  kge zuzvmb bu dzr etpa pup sb xkkqpq wwvz bex. orcb tpe zuqpb fdep oxzs sqzb wvu szz vvc cu dzr ekbap. uc sqzvl utop ptv w cdbfpbvs, xp xzek ukpr xpjkgp! rmzep ulk kgupozvq mpf_uetrq_db_vzvx po em vfzvcfe.\n"
          ]
        }
      ]
    },
    {
      "cell_type": "code",
      "execution_count": null,
      "metadata": {
        "colab": {
          "base_uri": "https://localhost:8080/"
        },
        "id": "UM8O-OkmvH2S",
        "outputId": "ce34bcf7-3ee9-4e65-a45e-3198b537f1af"
      },
      "outputs": [
        {
          "output_type": "stream",
          "name": "stdout",
          "text": [
            "Input string: qmnjvsa nv wewc flct vprj tj tvvplvl fv xja vqildhc xmlnvc nacyclpa fc gyt vfvw. fv wgqyp, pqq pqcs y wsq rx qmnjvafy cgv tlvhf cw tyl aeuq fv xja tkbv cqnsqs.  lhf avawnc cv eas fuqb qvq tc yllrqr xxwa cfy. psdc uqf avrqc gefq pyat trac xwv taa wwd dv eas flcbq. vd trawm vupq quw x decgqcwt, yq yafl vlqs yqklhq! snafq vml lhvqpawr nqg_vfusr_ec_wawy qp fn wgawdgf.\n",
            "Result: qmnjvsanvwewcflctvprjtjtvvplvlfvxjavqildhcxmlnvcnacyclpafcgytvfvwfvwgqyppqqpqcsywsqrxqmnjvafycgvtlvhfcwtylaeuqfvxjatkbvcqnsqslhfavawnccveasfuqbqvqtcyllrqrxxwacfypsdcuqfavrqcgefqpyattracxwvtaawwddveasflcbqvdtrawmvupqquwxdecgqcwtyqyaflvlqsyqklhqsnafqvmllhvqpawrnqgvfusrecwawyqpfnwgawdgf\n"
          ]
        }
      ],
      "source": [
        "#Program to remve whitespaces and punctuation marks from a given string\n",
        "\n",
        "import string\n",
        "\n",
        "def remove_spaces_and_punctuation(input_string):\n",
        "    # Create a translation table to remove punctuation\n",
        "    translation_table = str.maketrans('', '', string.punctuation)\n",
        "\n",
        "    # Remove spaces\n",
        "    input_string = input_string.replace(\" \", \"\")\n",
        "\n",
        "    # Remove punctuation using translation table\n",
        "    input_string = input_string.translate(translation_table)\n",
        "\n",
        "    return input_string\n",
        "\n",
        "# Test the function\n",
        "input_string = \"qmnjvsa nv wewc flct vprj tj tvvplvl fv xja vqildhc xmlnvc nacyclpa fc gyt vfvw. fv wgqyp, pqq pqcs y wsq rx qmnjvafy cgv tlvhf cw tyl aeuq fv xja tkbv cqnsqs.  lhf avawnc cv eas fuqb qvq tc yllrqr xxwa cfy. psdc uqf avrqc gefq pyat trac xwv taa wwd dv eas flcbq. vd trawm vupq quw x decgqcwt, yq yafl vlqs yqklhq! snafq vml lhvqpawr nqg_vfusr_ec_wawy qp fn wgawdgf.\"\n",
        "result = remove_spaces_and_punctuation(input_string)\n",
        "print(\"Input string:\", input_string)\n",
        "print(\"Result:\", result)"
      ]
    },
    {
      "cell_type": "code",
      "source": [
        "#KasisKi Examination used for finding the block length of the permutation cipher\n",
        "\n",
        "from collections import defaultdict\n",
        "import math\n",
        "\n",
        "def find_repeated_sequences(text, min_length=3):\n",
        "    repeated_sequences = defaultdict(list)\n",
        "    for i in range(len(text) - min_length + 1):\n",
        "        sequence = text[i:i + min_length]\n",
        "        if len(sequence) < min_length:\n",
        "            continue\n",
        "        repeated_sequences[sequence].append(i)\n",
        "    return {seq: indices for seq, indices in repeated_sequences.items() if len(indices) > 1}\n",
        "\n",
        "def calculate_distances(indices):\n",
        "    distances = defaultdict(list)\n",
        "    for indices_list in indices.values():\n",
        "        for i in range(len(indices_list) - 1):\n",
        "            for j in range(i + 1, len(indices_list)):\n",
        "                distances[indices_list[j] - indices_list[i]].append((indices_list[i], indices_list[j]))\n",
        "    return distances\n",
        "\n",
        "def find_gcd(distances):\n",
        "    gcds = {}\n",
        "    for distance, pairs in distances.items():\n",
        "        if len(pairs) > 1:\n",
        "            gcd = math.gcd(pairs[0][0] - pairs[0][1], pairs[1][0] - pairs[1][1])\n",
        "            for i in range(2, len(pairs)):\n",
        "                gcd = math.gcd(gcd, pairs[i][0] - pairs[i][1])\n",
        "            gcds[distance] = gcd\n",
        "    return gcds\n",
        "\n",
        "def kasiski_examination(text):\n",
        "    repeated_sequences = find_repeated_sequences(text)\n",
        "    print(\"The repeated Sequences are: \",repeated_sequences)\n",
        "    distances = calculate_distances(repeated_sequences)\n",
        "    print(\"Distances between repeated sequences: \",distances)\n",
        "    gcds = find_gcd(distances)\n",
        "    return gcds\n",
        "\n",
        "# Example usage:\n",
        "\n",
        "result_kasiski = kasiski_examination(result)\n",
        "print(\"GCDs for repeated distances:\", result_kasiski)\n"
      ],
      "metadata": {
        "colab": {
          "base_uri": "https://localhost:8080/"
        },
        "id": "g96SRemduk6A",
        "outputId": "c722c5be-bc16-4550-848c-951ed667cd0a"
      },
      "execution_count": null,
      "outputs": [
        {
          "output_type": "stream",
          "name": "stdout",
          "text": [
            "The repeated Sequences are:  {'qmn': [0, 85], 'mnj': [1, 86], 'njv': [2, 87], 'flc': [13, 199], 'lvl': [27, 232], 'fvx': [30, 110], 'vxj': [31, 111], 'xja': [32, 112], 'fvw': [62, 65], 'pqq': [72, 213], 'qrx': [82, 152], 'cwt': [101, 224], 'wty': [102, 225], 'uqf': [108, 165], 'fav': [127, 167], 'vea': [135, 195], 'eas': [136, 196], 'asf': [137, 197], 'bqv': [142, 202], 'tra': [181, 206]}\n",
            "Distances between repeated sequences:  defaultdict(<class 'list'>, {85: [(0, 85), (1, 86), (2, 87)], 186: [(13, 199)], 205: [(27, 232)], 80: [(30, 110), (31, 111), (32, 112)], 3: [(62, 65)], 141: [(72, 213)], 70: [(82, 152)], 123: [(101, 224), (102, 225)], 57: [(108, 165)], 40: [(127, 167)], 60: [(135, 195), (136, 196), (137, 197), (142, 202)], 25: [(181, 206)]})\n",
            "GCDs for repeated distances: {85: 85, 80: 80, 123: 123, 60: 60}\n"
          ]
        }
      ]
    },
    {
      "cell_type": "code",
      "source": [
        "#FREQUENCY ANALYSIS\n",
        "\n",
        "cipher_text=result\n",
        "letter_list=[]\n",
        "letter_freq_list=[]\n",
        "count2=0\n",
        "for l in cipher_text:\n",
        "    count2=count2+1\n",
        "for letter_cipher in cipher_text:\n",
        "    if(letter_cipher in letter_list):\n",
        "        continue\n",
        "    elif(letter_cipher=='.' or letter_cipher==\"'\" or letter_cipher==\" \" or letter_cipher.isdigit() or letter_cipher==\"!\" or letter_cipher==\",\"):\n",
        "        continue\n",
        "    else:\n",
        "        letter_list.append(letter_cipher)\n",
        "        temp=[]\n",
        "        count= count_of_a = cipher_text.count(letter_cipher)\n",
        "        temp.append(letter_cipher)\n",
        "        temp.append(count/count2)\n",
        "        letter_freq_list.append(temp)\n",
        "\n",
        "sorted_list = sorted(letter_freq_list, key=lambda y: y[1], reverse=True)\n",
        "print(sorted_list)\n",
        "print(\"\\n\")\n"
      ],
      "metadata": {
        "colab": {
          "base_uri": "https://localhost:8080/"
        },
        "id": "U2MAntB_yTBW",
        "outputId": "e9515c96-a9ff-4776-ceb0-1b7960caa499"
      },
      "execution_count": null,
      "outputs": [
        {
          "output_type": "stream",
          "name": "stdout",
          "text": [
            "[['q', 0.1056338028169014], ['v', 0.10211267605633803], ['a', 0.08098591549295775], ['c', 0.07746478873239436], ['w', 0.06690140845070422], ['f', 0.06690140845070422], ['l', 0.05985915492957746], ['t', 0.045774647887323945], ['y', 0.045774647887323945], ['s', 0.03873239436619718], ['p', 0.03873239436619718], ['n', 0.035211267605633804], ['r', 0.03169014084507042], ['x', 0.028169014084507043], ['g', 0.028169014084507043], ['e', 0.02464788732394366], ['d', 0.02464788732394366], ['j', 0.02112676056338028], ['u', 0.02112676056338028], ['m', 0.017605633802816902], ['h', 0.017605633802816902], ['b', 0.01056338028169014], ['k', 0.007042253521126761], ['i', 0.0035211267605633804]]\n",
            "\n",
            "\n"
          ]
        }
      ]
    },
    {
      "cell_type": "code",
      "source": [
        "#Dividing the given string in blocks of 5-5 letters each\n",
        "\n",
        "def block_division_ciphertext(input_string):\n",
        " input_string = ' '.join(input_string[i:i+5] for i in range(0, len(input_string), 5))\n",
        " return input_string\n",
        "\n",
        "\n",
        "block_divided_string=block_division_ciphertext(result)\n",
        "print(\"String divided in form of blocks: \", block_divided_string)\n",
        "print(\"\\n\")"
      ],
      "metadata": {
        "colab": {
          "base_uri": "https://localhost:8080/"
        },
        "id": "_2YORGj4wCin",
        "outputId": "0edb364e-a586-4773-e723-8e8da9dfebc6"
      },
      "execution_count": null,
      "outputs": [
        {
          "output_type": "stream",
          "name": "stdout",
          "text": [
            "String divided in form of blocks:  qmnjv sanvw ewcfl ctvpr jtjtv vplvl fvxja vqild hcxml nvcna cyclp afcgy tvfvw fvwgq yppqq pqcsy wsqrx qmnjv afycg vtlvh fcwty laeuq fvxja tkbvc qnsqs lhfav awncc veasf uqbqv qtcyl lrqrx xwacf ypsdc uqfav rqcge fqpya ttrac xwvta awwdd veasf lcbqv dtraw mvupq quwxd ecgqc wtyqy aflvl qsyqk lhqsn afqvm llhvq pawrn qgvfu srecw awyqp fnwga wdgf\n",
            "\n",
            "\n"
          ]
        }
      ]
    },
    {
      "cell_type": "code",
      "source": [
        "#Permutation Used 5,3,4,1,2\n",
        "\n",
        "\n",
        "def replace_characters(input_string):\n",
        "    # Replace 'q' with 'e'\n",
        "    input_string = input_string.replace('l', 's')\n",
        "    input_string = input_string.replace('p', 'd')\n",
        "    input_string = input_string.replace('h', 'p')\n",
        "    input_string = input_string.replace('w', 'o')\n",
        "    input_string = input_string.replace('a', 't')\n",
        "    input_string = input_string.replace('f', 'h')\n",
        "    input_string = input_string.replace('v', 'a')\n",
        "    input_string = input_string.replace('q', 'e')\n",
        "    # input_string = input_string.replace('r', 'w')\n",
        "    # input_string = input_string.replace('n', 'r')\n",
        "    return input_string\n",
        "\n",
        "\n",
        "def permute_word(word):\n",
        "    # Check if word length is not equal to 5\n",
        "    if len(word) == 4:\n",
        "      x=word[1]\n",
        "      return word[0]+word[2]+x+word[3]\n",
        "\n",
        "    # Permute the word according to the given permutation: 5, 3, 4, 1, 2\n",
        "    return word[4] + word[2] + word[3] + word[0] + word[1]\n",
        "\n",
        "def permute_string(input_string):\n",
        "    # Split the input string into words\n",
        "    words = input_string.split()\n",
        "\n",
        "    # Permute each word in the list of words\n",
        "    permuted_words = [permute_word(word) for word in words]\n",
        "\n",
        "    # Join the permuted words back into a string\n",
        "    permuted_string = ' '.join(permuted_words)\n",
        "\n",
        "    return permuted_string\n",
        "# Test the function\n",
        "input_string = block_divided_string\n",
        "result = replace_characters(input_string)\n",
        "result_final = permute_string(result)\n",
        "print(\"Input string:\", input_string)\n",
        "print(\"Result:\", result_final)\n",
        "print(\"\\n\")"
      ],
      "metadata": {
        "colab": {
          "base_uri": "https://localhost:8080/"
        },
        "id": "zePA3TuwIBVN",
        "outputId": "24a5d782-1a1d-49c4-8b6e-4c49faa00dbd"
      },
      "execution_count": null,
      "outputs": [
        {
          "output_type": "stream",
          "name": "stdout",
          "text": [
            "Input string: qmnjv sanvw ewcfl ctvpr jtjtv vplvl fvxja vqild hcxml nvcna cyclp afcgy tvfvw fvwgq yppqq pqcsy wsqrx qmnjv afycg vtlvh fcwty laeuq fvxja tkbvc qnsqs lhfav awncc veasf uqbqv qtcyl lrqrx xwacf ypsdc uqfav rqcge fqpya ttrac xwvta awwdd veasf lcbqv dtraw mvupq quwxd ecgqc wtyqy aflvl qsyqk lhqsn afqvm llhvq pawrn qgvfu srecw awyqp fnwga wdgf\n",
            "Result: anjem onast scheo radct ajtjt ssaad txjha disae sxmpc tcnna dcscy ycgth ohata eogha edeyd ycsde xeros anjem gycth psaat yothc eeust txjha cbatk sseen ahtsp cncto htsae abeue scyet xersr htcxo csdyd ahtue ecgre tdyhe crttt tatxo dodto htsae abesc ortdt eudma doxeu cgeec yyeot ssath kyees nessp meath epass nordt uaheg oecsr dyeto toghn ogdh\n",
            "\n",
            "\n"
          ]
        }
      ]
    },
    {
      "cell_type": "code",
      "source": [
        "# Permutation Used 4,5,2,1,3\n",
        "\n",
        "def replace_characters(input_string):\n",
        "    # Replace 'q' with 'e'\n",
        "    input_string = input_string.replace('l', 'S')\n",
        "    input_string = input_string.replace('p', 'D')\n",
        "    input_string = input_string.replace('h', 'P')\n",
        "    input_string = input_string.replace('w', 'O')\n",
        "    input_string = input_string.replace('a', 'T')\n",
        "    input_string = input_string.replace('f', 'H')\n",
        "    input_string = input_string.replace('v', 'E')\n",
        "    input_string = input_string.replace('q', 'A')\n",
        "    input_string = input_string.replace('r', 'W')\n",
        "    input_string = input_string.replace('n', 'R')\n",
        "    input_string = input_string.replace('c', 'I')\n",
        "    input_string = input_string.replace('s', 'F')\n",
        "    input_string = input_string.replace('y', 'N')\n",
        "    input_string = input_string.replace('g', 'G')\n",
        "    input_string = input_string.replace('d', 'U')\n",
        "    input_string = input_string.replace('t', 'L')\n",
        "    input_string = input_string.replace('j', 'B')\n",
        "    input_string = input_string.replace('x', 'Y')\n",
        "    input_string = input_string.replace('m', 'K')\n",
        "    input_string = input_string.replace('u', 'M')\n",
        "    input_string = input_string.replace('e', 'C')\n",
        "    input_string = input_string.replace('b', 'V')\n",
        "    input_string = input_string.replace('k', 'J')\n",
        "    input_string = input_string.replace('i', 'Q')\n",
        "    return input_string\n",
        "\n",
        "\n",
        "def permute_word(word):\n",
        "    # Check if word length is not equal to 5\n",
        "    if len(word) == 4:\n",
        "      x=word[2]\n",
        "      return word[0]+word[1]+x+word[3]\n",
        "\n",
        "    # Permute the word according to the given permutation: 4, 3, 5, 1, 2\n",
        "    return word[3] + word[2] + word[4] + word[0] + word[1]\n",
        "\n",
        "def permute_string(input_string):\n",
        "    # Split the input string into words\n",
        "    words = input_string.split()\n",
        "\n",
        "    # Permute each word in the list of words\n",
        "    permuted_words = [permute_word(word) for word in words]\n",
        "\n",
        "    # Join the permuted words back into a string\n",
        "    permuted_string = ' '.join(permuted_words)\n",
        "\n",
        "    return permuted_string\n",
        "# Test the function\n",
        "input_string = block_divided_string\n",
        "result = replace_characters(input_string)\n",
        "result_final = permute_string(result)\n",
        "print(\"Input string:\", input_string)\n",
        "print(\"Result:\", result_final)\n",
        "print(\"\\n\")\n",
        "\n",
        "\n",
        "\n",
        "def remove_punctuation(input_string):\n",
        "    # Create a translation table to remove punctuation\n",
        "    translation_table = str.maketrans('', '', string.punctuation)\n",
        "\n",
        "    # Remove punctuation using translation table\n",
        "    input_string = input_string.translate(translation_table)\n",
        "\n",
        "    return input_string\n",
        "\n",
        "# Test the function\n",
        "input_string = \"qmnjvsa nv wewc flct vprj tj tvvplvl fv xja vqildhc xmlnvc nacyclpa fc gyt vfvw. fv wgqyp, pqq pqcs y wsq rx qmnjvafy cgv tlvhf cw tyl aeuq fv xja tkbv cqnsqs.  lhf avawnc cv eas fuqb qvq tc yllrqr xxwa cfy. psdc uqf avrqc gefq pyat trac xwv taa wwd dv eas flcbq. vd trawm vupq quw x decgqcwt, yq yafl vlqs yqklhq! snafq vml lhvqpawr nqg_vfusr_ec_wawy qp fn wgawdgf.\"\n",
        "# cleaned_cipher=remove_punctuation(input_string)\n",
        "final_plaintext=list(input_string)\n",
        "j=0\n",
        "print(final_plaintext)\n",
        "for i in range(len(final_plaintext)):\n",
        "  if final_plaintext[i]==\" \" or final_plaintext[i]==\"_\" or final_plaintext[i]==\".\" or final_plaintext[i]==\"!\" or final_plaintext[i]==\",\":\n",
        "    continue\n",
        "  elif result_final[j]==\" \":\n",
        "    j=j+1\n",
        "    final_plaintext[i]=result_final[j]\n",
        "  else:\n",
        "    final_plaintext[i]=result_final[j]\n",
        "  j=j+1\n",
        "\n",
        "print(final_plaintext)\n",
        "\n",
        "\n",
        "plaintext = ''.join(final_plaintext)\n",
        "final_plaintext=plaintext.lower()\n",
        "print(\"\\nFinal Plaintext: \\n\")\n",
        "\n",
        "print(final_plaintext)\n",
        "print(\"\\n\")"
      ],
      "metadata": {
        "colab": {
          "base_uri": "https://localhost:8080/"
        },
        "id": "zjX2Pjv3zZvs",
        "outputId": "50c6d556-2868-4395-8d9e-1733408615d4"
      },
      "execution_count": null,
      "outputs": [
        {
          "output_type": "stream",
          "name": "stdout",
          "text": [
            "Input string: qmnjv sanvw ewcfl ctvpr jtjtv vplvl fvxja vqild hcxml nvcna cyclp afcgy tvfvw fvwgq yppqq pqcsy wsqrx qmnjv afycg vtlvh fcwty laeuq fvxja tkbvc qnsqs lhfav awncc veasf uqbqv qtcyl lrqrx xwacf ypsdc uqfav rqcge fqpya ttrac xwvta awwdd veasf lcbqv dtraw mvupq quwxd ecgqc wtyqy aflvl qsyqk lhqsn afqvm llhvq pawrn qgvfu srecw awyqp fnwga wdgf\n",
            "Result: BREAK EROFT HISCO DEWIL LBEBL ESSED BYTHE SQUEA KYSPI RITRE SIDIN GINTH EHOLE GOAHE ADAND FINDA WAYOF BREAK INGTH ESPEL LONHI MCAST BYTHE EVILJ AFFAR THESP IRITO FTHEC AVEMA NISAL WAYSW ITHYO UFIND THEMA GICWA NDTHA TWILL LETYO UOUTO FTHEC AVESI TWOUL DMAKE YOUAM AGICI ANNOL ESSTH ANJAF FARSP EAKTH EPASS WORDT HEMAG ICOFW ANDTO GOTHR OUGH\n",
            "\n",
            "\n",
            "['q', 'm', 'n', 'j', 'v', 's', 'a', ' ', 'n', 'v', ' ', 'w', 'e', 'w', 'c', ' ', 'f', 'l', 'c', 't', ' ', 'v', 'p', 'r', 'j', ' ', 't', 'j', ' ', 't', 'v', 'v', 'p', 'l', 'v', 'l', ' ', 'f', 'v', ' ', 'x', 'j', 'a', ' ', 'v', 'q', 'i', 'l', 'd', 'h', 'c', ' ', 'x', 'm', 'l', 'n', 'v', 'c', ' ', 'n', 'a', 'c', 'y', 'c', 'l', 'p', 'a', ' ', 'f', 'c', ' ', 'g', 'y', 't', ' ', 'v', 'f', 'v', 'w', '.', ' ', 'f', 'v', ' ', 'w', 'g', 'q', 'y', 'p', ',', ' ', 'p', 'q', 'q', ' ', 'p', 'q', 'c', 's', ' ', 'y', ' ', 'w', 's', 'q', ' ', 'r', 'x', ' ', 'q', 'm', 'n', 'j', 'v', 'a', 'f', 'y', ' ', 'c', 'g', 'v', ' ', 't', 'l', 'v', 'h', 'f', ' ', 'c', 'w', ' ', 't', 'y', 'l', ' ', 'a', 'e', 'u', 'q', ' ', 'f', 'v', ' ', 'x', 'j', 'a', ' ', 't', 'k', 'b', 'v', ' ', 'c', 'q', 'n', 's', 'q', 's', '.', ' ', ' ', 'l', 'h', 'f', ' ', 'a', 'v', 'a', 'w', 'n', 'c', ' ', 'c', 'v', ' ', 'e', 'a', 's', ' ', 'f', 'u', 'q', 'b', ' ', 'q', 'v', 'q', ' ', 't', 'c', ' ', 'y', 'l', 'l', 'r', 'q', 'r', ' ', 'x', 'x', 'w', 'a', ' ', 'c', 'f', 'y', '.', ' ', 'p', 's', 'd', 'c', ' ', 'u', 'q', 'f', ' ', 'a', 'v', 'r', 'q', 'c', ' ', 'g', 'e', 'f', 'q', ' ', 'p', 'y', 'a', 't', ' ', 't', 'r', 'a', 'c', ' ', 'x', 'w', 'v', ' ', 't', 'a', 'a', ' ', 'w', 'w', 'd', ' ', 'd', 'v', ' ', 'e', 'a', 's', ' ', 'f', 'l', 'c', 'b', 'q', '.', ' ', 'v', 'd', ' ', 't', 'r', 'a', 'w', 'm', ' ', 'v', 'u', 'p', 'q', ' ', 'q', 'u', 'w', ' ', 'x', ' ', 'd', 'e', 'c', 'g', 'q', 'c', 'w', 't', ',', ' ', 'y', 'q', ' ', 'y', 'a', 'f', 'l', ' ', 'v', 'l', 'q', 's', ' ', 'y', 'q', 'k', 'l', 'h', 'q', '!', ' ', 's', 'n', 'a', 'f', 'q', ' ', 'v', 'm', 'l', ' ', 'l', 'h', 'v', 'q', 'p', 'a', 'w', 'r', ' ', 'n', 'q', 'g', '_', 'v', 'f', 'u', 's', 'r', '_', 'e', 'c', '_', 'w', 'a', 'w', 'y', ' ', 'q', 'p', ' ', 'f', 'n', ' ', 'w', 'g', 'a', 'w', 'd', 'g', 'f', '.']\n",
            "['B', 'R', 'E', 'A', 'K', 'E', 'R', ' ', 'O', 'F', ' ', 'T', 'H', 'I', 'S', ' ', 'C', 'O', 'D', 'E', ' ', 'W', 'I', 'L', 'L', ' ', 'B', 'E', ' ', 'B', 'L', 'E', 'S', 'S', 'E', 'D', ' ', 'B', 'Y', ' ', 'T', 'H', 'E', ' ', 'S', 'Q', 'U', 'E', 'A', 'K', 'Y', ' ', 'S', 'P', 'I', 'R', 'I', 'T', ' ', 'R', 'E', 'S', 'I', 'D', 'I', 'N', 'G', ' ', 'I', 'N', ' ', 'T', 'H', 'E', ' ', 'H', 'O', 'L', 'E', '.', ' ', 'G', 'O', ' ', 'A', 'H', 'E', 'A', 'D', ',', ' ', 'A', 'N', 'D', ' ', 'F', 'I', 'N', 'D', ' ', 'A', ' ', 'W', 'A', 'Y', ' ', 'O', 'F', ' ', 'B', 'R', 'E', 'A', 'K', 'I', 'N', 'G', ' ', 'T', 'H', 'E', ' ', 'S', 'P', 'E', 'L', 'L', ' ', 'O', 'N', ' ', 'H', 'I', 'M', ' ', 'C', 'A', 'S', 'T', ' ', 'B', 'Y', ' ', 'T', 'H', 'E', ' ', 'E', 'V', 'I', 'L', ' ', 'J', 'A', 'F', 'F', 'A', 'R', '.', ' ', ' ', 'T', 'H', 'E', ' ', 'S', 'P', 'I', 'R', 'I', 'T', ' ', 'O', 'F', ' ', 'T', 'H', 'E', ' ', 'C', 'A', 'V', 'E', ' ', 'M', 'A', 'N', ' ', 'I', 'S', ' ', 'A', 'L', 'W', 'A', 'Y', 'S', ' ', 'W', 'I', 'T', 'H', ' ', 'Y', 'O', 'U', '.', ' ', 'F', 'I', 'N', 'D', ' ', 'T', 'H', 'E', ' ', 'M', 'A', 'G', 'I', 'C', ' ', 'W', 'A', 'N', 'D', ' ', 'T', 'H', 'A', 'T', ' ', 'W', 'I', 'L', 'L', ' ', 'L', 'E', 'T', ' ', 'Y', 'O', 'U', ' ', 'O', 'U', 'T', ' ', 'O', 'F', ' ', 'T', 'H', 'E', ' ', 'C', 'A', 'V', 'E', 'S', '.', ' ', 'I', 'T', ' ', 'W', 'O', 'U', 'L', 'D', ' ', 'M', 'A', 'K', 'E', ' ', 'Y', 'O', 'U', ' ', 'A', ' ', 'M', 'A', 'G', 'I', 'C', 'I', 'A', 'N', ',', ' ', 'N', 'O', ' ', 'L', 'E', 'S', 'S', ' ', 'T', 'H', 'A', 'N', ' ', 'J', 'A', 'F', 'F', 'A', 'R', '!', ' ', 'S', 'P', 'E', 'A', 'K', ' ', 'T', 'H', 'E', ' ', 'P', 'A', 'S', 'S', 'W', 'O', 'R', 'D', ' ', 'T', 'H', 'E', '_', 'M', 'A', 'G', 'I', 'C', '_', 'O', 'F', '_', 'W', 'A', 'N', 'D', ' ', 'T', 'O', ' ', 'G', 'O', ' ', 'T', 'H', 'R', 'O', 'U', 'G', 'H', '.']\n",
            "\n",
            "Final Plaintext: \n",
            "\n",
            "breaker of this code will be blessed by the squeaky spirit residing in the hole. go ahead, and find a way of breaking the spell on him cast by the evil jaffar.  the spirit of the cave man is always with you. find the magic wand that will let you out of the caves. it would make you a magician, no less than jaffar! speak the password the_magic_of_wand to go through.\n",
            "\n",
            "\n"
          ]
        }
      ]
    },
    {
      "cell_type": "code",
      "source": [],
      "metadata": {
        "id": "dzxBkt55p6im"
      },
      "execution_count": null,
      "outputs": []
    }
  ]
}